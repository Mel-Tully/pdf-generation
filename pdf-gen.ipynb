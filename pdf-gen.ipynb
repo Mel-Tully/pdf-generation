{
 "cells": [
  {
   "cell_type": "markdown",
   "metadata": {},
   "source": [
    "# Testing Python PDF Generation Libraries"
   ]
  },
  {
   "cell_type": "markdown",
   "metadata": {},
   "source": [
    "Beautiful Soup to modify html"
   ]
  },
  {
   "cell_type": "code",
   "execution_count": 3,
   "metadata": {},
   "outputs": [],
   "source": [
    "# Python program to modify HTML\n",
    "# with the help of Beautiful Soup\n",
    "\n",
    "# Import the libraries\n",
    "from bs4 import BeautifulSoup as bs\n",
    "import os\n",
    "import re\n",
    "\n",
    "# Remove the last segment of the path\n",
    "base = os.path.dirname(os.path.abspath('dei-report.html'))\n",
    "\n",
    "# Open the HTML in which you want to make changes\n",
    "html = open(os.path.join(base, 'dei-report.html'))\n",
    "\n",
    "# Parse HTML file in Beautiful Soup\n",
    "soup = bs(html, 'html.parser')\n",
    "\n",
    "# Give location where text is\n",
    "# stored which you wish to alter\n",
    "old_text = soup.find(\"p\", {\"id\": \"para\"})\n",
    "\n",
    "# Replace the already stored text with\n",
    "# the new text which you wish to assign\n",
    "new_text = old_text.find(string=re.compile(\n",
    "\t'text1')).replace_with('lorem ipsum DEI')\n",
    "\n",
    "# Alter HTML file to see the changes done\n",
    "with open(\"output.html\", \"wb\") as f_output:\n",
    "\tf_output.write(soup.prettify(\"utf-8\"))\n"
   ]
  },
  {
   "cell_type": "markdown",
   "metadata": {},
   "source": [
    "## PDFKit"
   ]
  },
  {
   "cell_type": "markdown",
   "metadata": {},
   "source": [
    "Convert edited html into PDF output. Ideal for report email.\n",
    "\n",
    "A notable limitation of pdfkit is that iframe and embed elements are not properly supported, necessitating a tool like Beautiful Soup for dynamic text substitution."
   ]
  },
  {
   "cell_type": "code",
   "execution_count": 4,
   "metadata": {},
   "outputs": [
    {
     "data": {
      "text/plain": [
       "True"
      ]
     },
     "execution_count": 4,
     "metadata": {},
     "output_type": "execute_result"
    }
   ],
   "source": [
    "import pdfkit\n",
    "pdfkit.from_file('output.html', 'dei-report.pdf', options={\"enable-local-file-access\": \"\"})"
   ]
  }
 ],
 "metadata": {
  "kernelspec": {
   "display_name": "Python 3",
   "language": "python",
   "name": "python3"
  },
  "language_info": {
   "codemirror_mode": {
    "name": "ipython",
    "version": 3
   },
   "file_extension": ".py",
   "mimetype": "text/x-python",
   "name": "python",
   "nbconvert_exporter": "python",
   "pygments_lexer": "ipython3",
   "version": "3.11.4"
  },
  "orig_nbformat": 4
 },
 "nbformat": 4,
 "nbformat_minor": 2
}
